{
 "cells": [
  {
   "cell_type": "code",
   "execution_count": 1,
   "id": "de385e2f",
   "metadata": {},
   "outputs": [
    {
     "name": "stdout",
     "output_type": "stream",
     "text": [
      "se da una matriz de m filas por n columnas\n",
      "dada otra matriz m2 de n filas y k columnas\n",
      "el producto es una matriz de m filas y k columnas\n",
      "[54, 49, 48, 3]\n",
      "[50, 31, -5, 8]\n",
      "[71, -7, 46, 23]\n"
     ]
    }
   ],
   "source": [
    "#Multiplicacion de matrices\n",
    "\n",
    "print(\"se da una matriz de m filas por n columnas\")\n",
    "m1= [[0,7,3],\n",
    "    [4,5,0],\n",
    "    [7,0,9]]\n",
    "print(\"dada otra matriz m2 de n filas y k columnas\")\n",
    "\n",
    "m2= [[5,-1,-5,2],\n",
    "    [6,7,3,0],\n",
    "    [4,0,9,1]]\n",
    "print(\"el producto es una matriz de m filas y k columnas\")\n",
    "    \n",
    "res = [[0,0,0,0],\n",
    "         [0,0,0,0],\n",
    "         [0,0,0,0]]\n",
    "         \n",
    "for l in range(len(m1)):\n",
    "    for j in range(len(m2[0])):\n",
    "        for k in range(len(m2)):\n",
    "            res[l][j] += m1[l][k] * m2[k][j]\n",
    "    \n",
    "for r in res:\n",
    "    print(r)"
   ]
  },
  {
   "cell_type": "code",
   "execution_count": null,
   "id": "932b9d1a",
   "metadata": {},
   "outputs": [],
   "source": []
  }
 ],
 "metadata": {
  "kernelspec": {
   "display_name": "Python 3 (ipykernel)",
   "language": "python",
   "name": "python3"
  },
  "language_info": {
   "codemirror_mode": {
    "name": "ipython",
    "version": 3
   },
   "file_extension": ".py",
   "mimetype": "text/x-python",
   "name": "python",
   "nbconvert_exporter": "python",
   "pygments_lexer": "ipython3",
   "version": "3.10.1"
  }
 },
 "nbformat": 4,
 "nbformat_minor": 5
}
